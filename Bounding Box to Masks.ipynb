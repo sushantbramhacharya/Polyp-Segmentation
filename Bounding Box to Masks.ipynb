{
 "cells": [
  {
   "cell_type": "code",
   "execution_count": 3,
   "id": "9db60d04-9108-4ba6-a0b1-eb094bb800d4",
   "metadata": {},
   "outputs": [
    {
     "name": "stdout",
     "output_type": "stream",
     "text": [
      "Channels:\n",
      " - conda-forge\n",
      " - defaults\n",
      "Platform: win-64\n",
      "Collecting package metadata (repodata.json): ...working... done\n",
      "Solving environment: ...working... done\n",
      "\n",
      "# All requested packages already installed.\n",
      "\n"
     ]
    }
   ],
   "source": [
    "!conda install -y -c conda-forge opencv"
   ]
  },
  {
   "cell_type": "code",
   "execution_count": 6,
   "id": "3f10121a-04d9-43d6-87d8-9a55546b9089",
   "metadata": {},
   "outputs": [
    {
     "name": "stdout",
     "output_type": "stream",
     "text": [
      "Collecting opencv-python-headless\n",
      "  Downloading opencv_python_headless-4.10.0.82-cp37-abi3-win_amd64.whl.metadata (20 kB)\n",
      "Requirement already satisfied: numpy>=1.21.2 in c:\\users\\senbuu\\anaconda3\\lib\\site-packages (from opencv-python-headless) (1.24.3)\n",
      "Downloading opencv_python_headless-4.10.0.82-cp37-abi3-win_amd64.whl (38.8 MB)\n",
      "   ---------------------------------------- 0.0/38.8 MB ? eta -:--:--\n",
      "   ---------------------------------------- 0.0/38.8 MB ? eta -:--:--\n",
      "   ---------------------------------------- 0.0/38.8 MB 653.6 kB/s eta 0:01:00\n",
      "   ---------------------------------------- 0.1/38.8 MB 871.5 kB/s eta 0:00:45\n",
      "   ---------------------------------------- 0.2/38.8 MB 1.1 MB/s eta 0:00:34\n",
      "   ---------------------------------------- 0.2/38.8 MB 1.4 MB/s eta 0:00:28\n",
      "   ---------------------------------------- 0.4/38.8 MB 1.9 MB/s eta 0:00:21\n",
      "    --------------------------------------- 0.5/38.8 MB 2.1 MB/s eta 0:00:19\n",
      "    --------------------------------------- 0.8/38.8 MB 3.0 MB/s eta 0:00:13\n",
      "   - -------------------------------------- 1.1/38.8 MB 3.6 MB/s eta 0:00:11\n",
      "   - -------------------------------------- 1.7/38.8 MB 5.0 MB/s eta 0:00:08\n",
      "   -- ------------------------------------- 2.3/38.8 MB 5.9 MB/s eta 0:00:07\n",
      "   --- ------------------------------------ 3.1/38.8 MB 7.4 MB/s eta 0:00:05\n",
      "   --- ------------------------------------ 3.4/38.8 MB 7.8 MB/s eta 0:00:05\n",
      "   ---- ----------------------------------- 4.6/38.8 MB 9.5 MB/s eta 0:00:04\n",
      "   ----- ---------------------------------- 5.6/38.8 MB 10.5 MB/s eta 0:00:04\n",
      "   ------ --------------------------------- 6.0/38.8 MB 10.9 MB/s eta 0:00:03\n",
      "   ------ --------------------------------- 6.0/38.8 MB 10.9 MB/s eta 0:00:03\n",
      "   ------ --------------------------------- 6.0/38.8 MB 10.9 MB/s eta 0:00:03\n",
      "   ------ --------------------------------- 6.1/38.8 MB 9.3 MB/s eta 0:00:04\n",
      "   ------ --------------------------------- 6.1/38.8 MB 9.3 MB/s eta 0:00:04\n",
      "   ------ --------------------------------- 6.1/38.8 MB 9.3 MB/s eta 0:00:04\n",
      "   --------- ------------------------------ 9.3/38.8 MB 11.9 MB/s eta 0:00:03\n",
      "   ---------- ----------------------------- 10.4/38.8 MB 14.5 MB/s eta 0:00:02\n",
      "   ----------- ---------------------------- 11.0/38.8 MB 17.7 MB/s eta 0:00:02\n",
      "   ------------ --------------------------- 11.9/38.8 MB 18.7 MB/s eta 0:00:02\n",
      "   ------------- -------------------------- 12.7/38.8 MB 19.3 MB/s eta 0:00:02\n",
      "   ------------- -------------------------- 13.5/38.8 MB 19.3 MB/s eta 0:00:02\n",
      "   -------------- ------------------------- 13.7/38.8 MB 19.3 MB/s eta 0:00:02\n",
      "   -------------- ------------------------- 13.7/38.8 MB 19.3 MB/s eta 0:00:02\n",
      "   -------------- ------------------------- 13.7/38.8 MB 19.3 MB/s eta 0:00:02\n",
      "   ---------------- ----------------------- 15.8/38.8 MB 18.2 MB/s eta 0:00:02\n",
      "   ---------------- ----------------------- 15.9/38.8 MB 16.8 MB/s eta 0:00:02\n",
      "   ------------------- -------------------- 18.4/38.8 MB 24.2 MB/s eta 0:00:01\n",
      "   ------------------- -------------------- 19.3/38.8 MB 22.6 MB/s eta 0:00:01\n",
      "   -------------------- ------------------- 20.2/38.8 MB 21.8 MB/s eta 0:00:01\n",
      "   --------------------- ------------------ 21.1/38.8 MB 23.4 MB/s eta 0:00:01\n",
      "   ---------------------- ----------------- 21.9/38.8 MB 23.4 MB/s eta 0:00:01\n",
      "   ----------------------- ---------------- 22.7/38.8 MB 23.4 MB/s eta 0:00:01\n",
      "   ------------------------ --------------- 23.6/38.8 MB 23.4 MB/s eta 0:00:01\n",
      "   ------------------------- -------------- 24.4/38.8 MB 28.4 MB/s eta 0:00:01\n",
      "   -------------------------- ------------- 25.3/38.8 MB 27.3 MB/s eta 0:00:01\n",
      "   -------------------------- ------------- 26.1/38.8 MB 28.5 MB/s eta 0:00:01\n",
      "   --------------------------- ------------ 26.9/38.8 MB 26.2 MB/s eta 0:00:01\n",
      "   ---------------------------- ----------- 27.8/38.8 MB 24.2 MB/s eta 0:00:01\n",
      "   ----------------------------- ---------- 28.7/38.8 MB 23.4 MB/s eta 0:00:01\n",
      "   ------------------------------ --------- 29.6/38.8 MB 24.2 MB/s eta 0:00:01\n",
      "   ------------------------------- -------- 30.5/38.8 MB 23.4 MB/s eta 0:00:01\n",
      "   -------------------------------- ------- 31.4/38.8 MB 23.4 MB/s eta 0:00:01\n",
      "   --------------------------------- ------ 32.2/38.8 MB 23.4 MB/s eta 0:00:01\n",
      "   ---------------------------------- ----- 33.1/38.8 MB 23.4 MB/s eta 0:00:01\n",
      "   ----------------------------------- ---- 33.9/38.8 MB 24.2 MB/s eta 0:00:01\n",
      "   ----------------------------------- ---- 34.8/38.8 MB 24.3 MB/s eta 0:00:01\n",
      "   ------------------------------------ --- 35.7/38.8 MB 23.4 MB/s eta 0:00:01\n",
      "   ------------------------------------- -- 36.5/38.8 MB 24.2 MB/s eta 0:00:01\n",
      "   -------------------------------------- - 37.4/38.8 MB 24.2 MB/s eta 0:00:01\n",
      "   ---------------------------------------  38.3/38.8 MB 24.2 MB/s eta 0:00:01\n",
      "   ---------------------------------------  38.7/38.8 MB 24.2 MB/s eta 0:00:01\n",
      "   ---------------------------------------- 38.8/38.8 MB 21.8 MB/s eta 0:00:00\n",
      "Installing collected packages: opencv-python-headless\n",
      "Successfully installed opencv-python-headless-4.10.0.82\n"
     ]
    }
   ],
   "source": [
    "!pip install opencv-python-headless"
   ]
  },
  {
   "cell_type": "code",
   "execution_count": 7,
   "id": "2c5acc44-829b-4938-96f4-a8dad6db9085",
   "metadata": {},
   "outputs": [
    {
     "name": "stdout",
     "output_type": "stream",
     "text": [
      "4.10.0\n"
     ]
    }
   ],
   "source": [
    "import cv2\n",
    "print(cv2.__version__)"
   ]
  },
  {
   "cell_type": "code",
   "execution_count": 10,
   "id": "7378b581-e785-4a49-bb52-f0139b72a77f",
   "metadata": {},
   "outputs": [
    {
     "name": "stdout",
     "output_type": "stream",
     "text": [
      "Mask Created Sucessfully\n"
     ]
    }
   ],
   "source": [
    "import cv2\n",
    "import numpy as np\n",
    "import json\n",
    "import os\n",
    "\n",
    "# Function to create binary mask from a single bounding box using OpenCV\n",
    "def create_binary_mask(width, height, bbox):\n",
    "    mask = np.zeros((height, width), dtype=np.uint8)\n",
    "    cv2.rectangle(mask, (bbox['xmin'], bbox['ymin']), (bbox['xmax'], bbox['ymax']), 1, -1)  # Draw filled rectangle\n",
    "    return mask\n",
    "\n",
    "# Load JSON data from file\n",
    "json_file_path = r'C:\\Users\\Senbuu\\Downloads\\hyper-kvasir-segmented-images\\segmented-images\\bounding-boxes.json'  # Replace with your actual file path\n",
    "\n",
    "with open(json_file_path, 'r') as file:\n",
    "    data = json.load(file)\n",
    "\n",
    "# Create a directory to save the masks\n",
    "output_dir = r'C:\\Users\\Senbuu\\Downloads\\hyper-kvasir-segmented-images\\segmented-images\\instance_masks'\n",
    "os.makedirs(output_dir, exist_ok=True)\n",
    "\n",
    "# Iterate through each image in the JSON data\n",
    "for image_id, image_data in data.items():\n",
    "    image_width = image_data['width']\n",
    "    image_height = image_data['height']\n",
    "    bboxes = image_data['bbox']\n",
    "    \n",
    "    # Create and save a separate mask for each bounding box\n",
    "    for idx, bbox in enumerate(bboxes):\n",
    "        binary_mask = create_binary_mask(image_width, image_height, bbox)\n",
    "        \n",
    "        # Save the mask as an image with a unique filename\n",
    "        mask_image_filename = os.path.join(output_dir, f'{image_id}_mask_{idx}.png')\n",
    "        cv2.imwrite(mask_image_filename, binary_mask * 255)\n",
    "\n",
    "# Display the saved masks for verification\n",
    "import matplotlib.pyplot as plt\n",
    "import glob\n",
    "\n",
    "mask_files = glob.glob(os.path.join(output_dir, '*.png'))\n",
    "print(\"Mask Created Sucessfully\")\n",
    "# for mask_file in mask_files:\n",
    "#     mask = cv2.imread(mask_file, cv2.IMREAD_GRAYSCALE)\n",
    "#     plt.figure()\n",
    "#     plt.title(os.path.basename(mask_file))\n",
    "#     plt.imshow(mask, cmap='gray')\n",
    "#     plt.show()\n"
   ]
  },
  {
   "cell_type": "code",
   "execution_count": null,
   "id": "7f7a0d3e-1834-4df9-a87e-83450162cd30",
   "metadata": {},
   "outputs": [],
   "source": []
  }
 ],
 "metadata": {
  "kernelspec": {
   "display_name": "Python 3 (ipykernel)",
   "language": "python",
   "name": "python3"
  },
  "language_info": {
   "codemirror_mode": {
    "name": "ipython",
    "version": 3
   },
   "file_extension": ".py",
   "mimetype": "text/x-python",
   "name": "python",
   "nbconvert_exporter": "python",
   "pygments_lexer": "ipython3",
   "version": "3.11.7"
  }
 },
 "nbformat": 4,
 "nbformat_minor": 5
}
